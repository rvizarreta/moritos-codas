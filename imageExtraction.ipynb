{
 "cells": [
  {
   "cell_type": "code",
   "execution_count": 11,
   "id": "264c0357",
   "metadata": {},
   "outputs": [
    {
     "name": "stdout",
     "output_type": "stream",
     "text": [
      "(3520, 30, 30)\n"
     ]
    }
   ],
   "source": [
    "import h5py\n",
    "import numpy as np\n",
    "from PIL import Image\n",
    "import matplotlib.pyplot as plt\n",
    "from matplotlib.backends.backend_pdf import PdfPages\n",
    "import os\n",
    "\n",
    "# Load the train ids\n",
    "labels = np.load('data/train/labels/labels.npy')\n",
    "\n",
    "# Zoom factor\n",
    "zoom_factor = 15\n",
    "\n",
    "# Create containers for images\n",
    "tt_images = []\n",
    "qcd_images = []\n",
    "\n",
    "# Load the HDF5 file\n",
    "with h5py.File('data/train/images/jet_images.h5', 'r') as f:\n",
    "    images = f['images'][:]  # Load all images\n",
    "    print(images.shape)\n",
    "\n",
    "    for i, img_array in enumerate(images):\n",
    "        # Normalize to uint8\n",
    "        img_array = (img_array * 255).astype(np.uint8) if img_array.max() <= 1 else img_array.astype(np.uint8)\n",
    "        img = Image.fromarray(img_array, mode='L')\n",
    "        img = img.resize(\n",
    "            (img.width * zoom_factor, img.height * zoom_factor),\n",
    "            resample=Image.NEAREST\n",
    "        )\n",
    "\n",
    "        # Append to appropriate list\n",
    "        if labels[i] == 1:\n",
    "            tt_images.append(img)\n",
    "        else:\n",
    "            qcd_images.append(img)\n",
    "\n",
    "# Helper function to save images in 4x4 grids to PDF\n",
    "def save_images_to_pdf(image_list, output_path, title):\n",
    "    with PdfPages(output_path) as pdf:\n",
    "        for i in range(0, len(image_list), 16):\n",
    "            fig, axs = plt.subplots(4, 4, figsize=(12, 12))\n",
    "            fig.suptitle(title, fontsize=16)\n",
    "            for j, ax in enumerate(axs.flat):\n",
    "                if i + j < len(image_list):\n",
    "                    ax.imshow(image_list[i + j], cmap='gray')\n",
    "                    ax.axis('off')\n",
    "                else:\n",
    "                    ax.axis('off')\n",
    "            pdf.savefig(fig)\n",
    "            plt.close(fig)\n",
    "\n",
    "# Save both PDFs\n",
    "save_images_to_pdf(tt_images, 'data/train/images/output_images/TT_images.pdf', title='TT Events')\n",
    "save_images_to_pdf(qcd_images, 'data/train/images/output_images/QCD_images.pdf', title='QCD Events')"
   ]
  },
  {
   "cell_type": "code",
   "execution_count": null,
   "id": "03579eee",
   "metadata": {},
   "outputs": [],
   "source": []
  }
 ],
 "metadata": {
  "kernelspec": {
   "display_name": "base",
   "language": "python",
   "name": "python3"
  },
  "language_info": {
   "codemirror_mode": {
    "name": "ipython",
    "version": 3
   },
   "file_extension": ".py",
   "mimetype": "text/x-python",
   "name": "python",
   "nbconvert_exporter": "python",
   "pygments_lexer": "ipython3",
   "version": "3.13.5"
  }
 },
 "nbformat": 4,
 "nbformat_minor": 5
}
